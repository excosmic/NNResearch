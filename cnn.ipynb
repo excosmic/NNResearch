{
 "cells": [
  {
   "cell_type": "markdown",
   "metadata": {},
   "source": [
    "# cnn with resnet-50\n",
    "---\n"
   ]
  },
  {
   "cell_type": "code",
   "execution_count": 2,
   "metadata": {
    "ExecuteTime": {
     "end_time": "2024-12-22T17:55:49.856551Z",
     "start_time": "2024-12-22T17:55:46.429217Z"
    },
    "tags": []
   },
   "outputs": [],
   "source": [
    "\n",
    "import torch as tc\n",
    "import torchvision as tcv\n",
    "from torchvision import transforms, datasets\n",
    "import torch.utils as utils\n",
    "from torch.utils.data import DataLoader\n",
    "from torchvision import models\n",
    "import tqdm\n",
    "import pickle as pk\n",
    "import matplotlib.pyplot as plt\n",
    "import numpy as np\n",
    "import json\n",
    "device = tc.device('cuda')\n",
    "log = {\n",
    "    \"train_avrloss\":[],\n",
    "    \"test_avrloss\":[],\n",
    "    \"test_confusion_mat\":[],\n",
    "}"
   ]
  },
  {
   "cell_type": "code",
   "execution_count": 25,
   "metadata": {
    "ExecuteTime": {
     "end_time": "2024-12-22T17:55:51.628352Z",
     "start_time": "2024-12-22T17:55:51.517201Z"
    },
    "editable": true,
    "slideshow": {
     "slide_type": ""
    },
    "tags": []
   },
   "outputs": [
    {
     "name": "stdout",
     "output_type": "stream",
     "text": [
      "classes with index: {'DP590': 0, 'DP600': 1, 'DP780': 2, 'DP980': 3}\n"
     ]
    }
   ],
   "source": [
    "# Load dataset and spilt into trainset and testset.\n",
    "\n",
    "def load_pic_sets(\n",
    "    input_path:str,\n",
    "):\n",
    "    trans = transforms.Compose([\n",
    "        transforms.Resize([900, 900]),\n",
    "        transforms.RandomResizedCrop(size=(300, 300), scale=(0.8,1.2)),\n",
    "        #transforms.ColorJitter(brightness=0.5, contrast=0.5, saturation=0.5, hue=0.1),\n",
    "        #transforms.RandomRotation(degrees=90),\n",
    "        transforms.ToTensor(),\n",
    "        #transforms.Lambda(lambda crops: print(crops)),\n",
    "    ])\n",
    "    sets = datasets.ImageFolder(input_path, transform=trans)\n",
    "    print(\"classes with index:\",sets.class_to_idx)\n",
    "    #dataloader = DataLoader(sets, batch_size=16, shuffle=True)\n",
    "    train_set, test_set = utils.data.random_split(sets, [0.9, 0.1], generator=tc.Generator().manual_seed(0))\n",
    "    train_loader = DataLoader(train_set, batch_size=32, shuffle=True, num_workers=15)\n",
    "    test_loader =  DataLoader(test_set, batch_size=1, shuffle=True, num_workers=15) \n",
    "    return train_loader, test_loader\n",
    "show_tensor_pic = transforms.ToPILImage()\n",
    "train_dataloader, test_dataloader = load_pic_sets('./raw_norm_spilt_data')"
   ]
  },
  {
   "cell_type": "code",
   "execution_count": 16,
   "metadata": {
    "ExecuteTime": {
     "end_time": "2024-12-22T17:55:53.237986Z",
     "start_time": "2024-12-22T17:55:52.926889Z"
    },
    "editable": true,
    "slideshow": {
     "slide_type": ""
    },
    "tags": []
   },
   "outputs": [
    {
     "name": "stderr",
     "output_type": "stream",
     "text": [
      "/tmp/ipykernel_2579527/1885096656.py:7: FutureWarning: You are using `torch.load` with `weights_only=False` (the current default value), which uses the default pickle module implicitly. It is possible to construct malicious pickle data which will execute arbitrary code during unpickling (See https://github.com/pytorch/pytorch/blob/main/SECURITY.md#untrusted-models for more details). In a future release, the default value for `weights_only` will be flipped to `True`. This limits the functions that could be executed during unpickling. Arbitrary objects will no longer be allowed to be loaded via this mode unless they are explicitly allowlisted by the user via `torch.serialization.add_safe_globals`. We recommend you start setting `weights_only=True` for any use case where you don't have full control of the loaded file. Please open an issue on GitHub for any issues related to this experimental feature.\n",
      "  resnet = tc.load(\"./good_res50_i100x100_o4_500epoch.tcm\")\n"
     ]
    }
   ],
   "source": [
    "# Load resnet from scratch or from file\n",
    "\n",
    "resnet = models.resnet50(weights=None) #pretrained=True 加载模型以及训练过的参数\n",
    "infe = resnet.fc.in_features\n",
    "resnet.fc = tc.nn.Sequential(tc.nn.Linear(infe, 4), tc.nn.LeakyReLU())\n",
    "#print(resnet)\n",
    "optimizer = tc.optim.SGD(resnet.parameters(), lr=0.001, momentum=0.9)\n",
    "loss_fn = tc.nn.SmoothL1Loss()\n",
    "\n",
    "# from file.\n",
    "#resnet = tc.load(\"./good_res50_i100x100_o4_500epoch.tcm\")\n"
   ]
  },
  {
   "cell_type": "code",
   "execution_count": 4,
   "metadata": {
    "ExecuteTime": {
     "start_time": "2024-12-22T17:56:22.672678Z"
    },
    "jupyter": {
     "is_executing": true
    },
    "tags": []
   },
   "outputs": [
    {
     "name": "stdout",
     "output_type": "stream",
     "text": [
      "epoch 0 ----------\n"
     ]
    },
    {
     "name": "stderr",
     "output_type": "stream",
     "text": [
      "100%|██████████| 401/401 [03:39<00:00,  1.82it/s, avrloss=0.0858, loss=0.0621]\n",
      "100%|██████████| 1425/1425 [00:45<00:00, 31.12it/s, avrloss=0.07, loss=0.138]     "
     ]
    },
    {
     "name": "stdout",
     "output_type": "stream",
     "text": [
      "accuracy on test set: 0.6126315789473684\n",
      "test set confusion mat: tensor([[306.,  35.,  60.,   0.],\n",
      "        [ 18., 217.,  93.,   0.],\n",
      "        [ 15.,  42., 350.,   0.],\n",
      "        [  7.,  88., 194.,   0.]])\n"
     ]
    },
    {
     "name": "stderr",
     "output_type": "stream",
     "text": [
      "\n"
     ]
    }
   ],
   "source": [
    "####\n",
    "#### Train\n",
    "####\n",
    "resnet=resnet.to(device)\n",
    "epoch=400\n",
    "for i in range(epoch):\n",
    "    print('epoch', i,'----------')\n",
    "    resnet.train()\n",
    "    # train one epoch in train_dataloader\n",
    "    totaloss, total = 0, 0\n",
    "    tqdm_item = tqdm.tqdm(train_dataloader)\n",
    "    for k, v in tqdm_item:\n",
    "        v = tc.eye(4)[v]\n",
    "        v = v.to(device)\n",
    "        k = k.to(device)\n",
    "        o = resnet.forward(k)\n",
    "        loss = loss_fn(v, o)\n",
    "        optimizer.zero_grad()\n",
    "        loss.backward()\n",
    "        optimizer.step()\n",
    "        totaloss += float(loss)\n",
    "        total += 1\n",
    "        tqdm_item.set_postfix(loss=float(loss), avrloss=totaloss/total)\n",
    "    log['train_avrloss'] += [totaloss/total]\n",
    "    # test one epoch in test_dataloader\n",
    "    resnet.eval()\n",
    "    tqdm_item = tqdm.tqdm(test_dataloader)\n",
    "    accurate, total = 0, 0\n",
    "    totaloss = 0.0\n",
    "    confusion = tc.zeros(4,4)\n",
    "    for k, v in tqdm_item:\n",
    "        v = tc.eye(4)[v]\n",
    "        v = v.to(device)\n",
    "        k = k.to(device)\n",
    "        o = resnet.forward(k)\n",
    "        argo = tc.argmax(o, dim=1)\n",
    "        argv = tc.argmax(v, dim=1)\n",
    "        loss = loss_fn(v, o)\n",
    "        totaloss += float(loss)\n",
    "        confusion[int(argv)][int(argo)] += 1\n",
    "        if argo==argv: accurate += 1\n",
    "        total += 1\n",
    "        tqdm_item.set_postfix(loss=float(loss), avrloss=totaloss/total)\n",
    "    print('accuracy on test set:', accurate/total)\n",
    "    print('test set confusion mat:\\n', confusion)\n",
    "    log['test_avrloss'] += [totaloss/total]\n",
    "    log['test_confusion_mat'] += [confusion.numpy().tolist()]\n",
    "        "
   ]
  },
  {
   "cell_type": "code",
   "execution_count": 5,
   "metadata": {},
   "outputs": [
    {
     "name": "stdout",
     "output_type": "stream",
     "text": [
      "saving at good_res101_i100x100_o4_200epoch.tcm\n"
     ]
    }
   ],
   "source": [
    "# Save my module.\n",
    "tc.save(resnet, \"good_res50_o4_400epoch.tcm\")\n",
    "print('saving at good_res50_o4_400epoch.tcm')\n",
    "with open('./test.txt', 'w', encoding='utf-8') as f:\n",
    "    f.write(str(log))"
   ]
  },
  {
   "cell_type": "code",
   "execution_count": null,
   "metadata": {},
   "outputs": [],
   "source": [
    "\n",
    "# test module. depreciated \n",
    "\"\"\"\n",
    "_,test_dataloader = load_pic_sets(\"./raw_norm_spilt_data\")\n",
    "resnet50=resnet\n",
    "resnet50.eval()\n",
    "confusion = tc.zeros(4,4)\n",
    "tqdm_item = tqdm.tqdm(test_dataloader)\n",
    "accurate, total = 0, 0\n",
    "for k, v in tqdm_item:\n",
    "    v = tc.eye(4)[v]\n",
    "    v = v.to(device)\n",
    "    k = k.to(device)\n",
    "    o = resnet50.forward(k)\n",
    "    argo = tc.argmax(o, dim=1)\n",
    "    argv = tc.argmax(v, dim=1)\n",
    "    confusion[int(argv)][int(argo)] += 1\n",
    "    #print(argo, argv)\n",
    "    if argo==argv: accurate += 1\n",
    "    total += 1\n",
    "print('accuracy on test set:', accurate/total)\n",
    "print('confusion matrix:', confusion)\n",
    "\"\"\"\n"
   ]
  },
  {
   "cell_type": "code",
   "execution_count": 13,
   "metadata": {
    "tags": []
   },
   "outputs": [
    {
     "name": "stdout",
     "output_type": "stream",
     "text": [
      "dict_keys(['train_avrloss', 'test_avrloss', 'test_confusion_mat'])\n"
     ]
    },
    {
     "name": "stderr",
     "output_type": "stream",
     "text": [
      "/var/folders/f9/w4lr4qhs0rx946f35ld4zk3m0000gn/T/ipykernel_64404/2137370859.py:27: UserWarning: FigureCanvasAgg is non-interactive, and thus cannot be shown\n",
      "  fig.show()\n"
     ]
    },
    {
     "data": {
      "image/png": "[encoded data removed]",
      "text/plain": [
       "<Figure size 800x200 with 4 Axes>"
      ]
     },
     "metadata": {},
     "output_type": "display_data"
    }
   ],
   "source": [
    "# 显示训练结果\n",
    "#print(f\"epoch = {epoch}\")\n",
    "\n",
    "\n",
    "with open(\"./tmp/test.txt\", 'r', encoding='UTF-8') as f:\n",
    "    log_str = f.read()\n",
    "log = eval(log_str)\n",
    "print(log.keys())\n",
    "epoch = len(log['train_avrloss'])\n",
    "fig, ax = plt.subplots(1, 4, figsize=(8,2))\n",
    "x = np.arange(0, epoch)\n",
    "ax[0].set_title('train avery loss')\n",
    "ax[0].plot(x, log['train_avrloss'])\n",
    "ax[1].set_title('test avery loss')\n",
    "ax[1].plot(x, log['test_avrloss'])\n",
    "ax[2].set_title('confusion matrix for last test')\n",
    "ax[2].matshow(log['test_confusion_mat'][-1])\n",
    "def conmats2corate(conmats:list):\n",
    "    conmats = np.array(conmats)\n",
    "    ans = [0 for i in range(len(conmats))]\n",
    "    for i in range(len(conmats)):\n",
    "        ans[i] = np.diag(conmats[i]).sum()/conmats[i].sum()\n",
    "    return ans\n",
    "t = conmats2corate(log['test_confusion_mat'])\n",
    "ax[3].set_title('correct rate')\n",
    "ax[3].plot(x, t)\n",
    "fig.show()\n"
   ]
  }
 ],
 "metadata": {
  "kernelspec": {
   "display_name": "base",
   "language": "python",
   "name": "python3"
  },
  "language_info": {
   "codemirror_mode": {
    "name": "ipython",
    "version": 3
   },
   "file_extension": ".py",
   "mimetype": "text/x-python",
   "name": "python",
   "nbconvert_exporter": "python",
   "pygments_lexer": "ipython3",
   "version": "3.11.7"
  }
 },
 "nbformat": 4,
 "nbformat_minor": 4
}
