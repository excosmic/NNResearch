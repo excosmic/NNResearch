{
 "cells": [
  {
   "cell_type": "markdown",
   "id": "016b3548-b99d-4e79-9b80-9bfb14c762ae",
   "metadata": {},
   "source": [
    "# My ResNet"
   ]
  },
  {
   "cell_type": "code",
   "execution_count": 1,
   "id": "cb72caad-6221-4a93-aeb2-b64dbdd43d53",
   "metadata": {
    "tags": []
   },
   "outputs": [
    {
     "name": "stdout",
     "output_type": "stream",
     "text": [
      "classes with index: {'DP590': 0, 'DP600': 1, 'DP780': 2, 'DP980': 3}\n"
     ]
    }
   ],
   "source": [
    "import torch as tc\n",
    "import torch.nn as nn\n",
    "import torchvision as tcv\n",
    "from torchvision import transforms, datasets\n",
    "import torch.utils as utils\n",
    "from torch.utils.data import DataLoader\n",
    "from torchvision import models\n",
    "import tqdm\n",
    "import pickle as pk\n",
    "device = tc.device('cuda')\n",
    "log = {\n",
    "    \"train_avrloss\":[],\n",
    "    \"test_avrloss\":[],\n",
    "    \"test_confusion_mat\":[],\n",
    "}\n",
    "'''\n",
    "Here we loading dataloader\n",
    "'''\n",
    "234\n",
    "def load_pic_sets(\n",
    "    input_path:str,\n",
    "):\n",
    "    trans = transforms.Compose([\n",
    "        transforms.Resize([900, 900]),\n",
    "        transforms.RandomResizedCrop(size=(300, 300), scale=(0.5, 2)),\n",
    "        transforms.ColorJitter(brightness=0.5, contrast=0.5, saturation=0.5, hue=0.1),\n",
    "        transforms.RandomRotation(degrees=90),\n",
    "        transforms.ToTensor(),\n",
    "        #transforms.Lambda(lambda crops: print(crops)),\n",
    "    ])\n",
    "    sets = datasets.ImageFolder(input_path, transform=trans)\n",
    "    print(\"classes with index:\",sets.class_to_idx)\n",
    "    #dataloader = DataLoader(sets, batch_size=16, shuffle=True)\n",
    "    train_set, test_set = utils.data.random_split(sets, [0.9, 0.1], generator=tc.Generator().manual_seed(0))\n",
    "    train_loader = DataLoader(train_set, batch_size=32, shuffle=True, num_workers=15)\n",
    "    test_loader =  DataLoader(test_set, batch_size=1, shuffle=True, num_workers=15) \n",
    "    return train_loader, test_loader\n",
    "show_tensor_pic = transforms.ToPILImage()\n",
    "train_dataloader, test_dataloader = load_pic_sets('./raw_norm_spilt_data')"
   ]
  },
  {
   "cell_type": "code",
   "execution_count": null,
   "id": "59bf1b75-a443-4d0e-b010-66816d4b44b1",
   "metadata": {},
   "outputs": [],
   "source": [
    "class MyResNet(nn.Module):\n",
    "    def __init__(self, loop=64, loop_io_ch = 256, loop_hide_ch=16, input_ch=3):\n",
    "        super.__init__()\n",
    "        self.loopInConv = nn.Conv2d(loop_io_ch, loop_hide_ch, 3, stride=1, padding='same')\n",
    "        self.maxPool1 = nn.MaxPool2d(3, stride=1, padding=1)\n",
    "        self.loopOutConv = nn.Conv2d(loop_hide_ch, loop_io_ch, stride=1, padding='same')\n",
    "        self.maxPool2 = nn.MaxPool2d(3, stride=1, padding=1)\n",
    "        self.loop_num = loop\n",
    "        return\n",
    "    def forward(self, x):\n",
    "        # TODO\n",
    "        return\n"
   ]
  }
 ],
 "metadata": {
  "kernelspec": {
   "display_name": "Python 3 (ipykernel)",
   "language": "python",
   "name": "python3"
  },
  "language_info": {
   "codemirror_mode": {
    "name": "ipython",
    "version": 3
   },
   "file_extension": ".py",
   "mimetype": "text/x-python",
   "name": "python",
   "nbconvert_exporter": "python",
   "pygments_lexer": "ipython3",
   "version": "3.10.12"
  }
 },
 "nbformat": 4,
 "nbformat_minor": 5
}
